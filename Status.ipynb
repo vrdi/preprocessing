{
 "cells": [
  {
   "cell_type": "markdown",
   "metadata": {},
   "source": [
    "# Status by county"
   ]
  },
  {
   "cell_type": "code",
   "execution_count": 1,
   "metadata": {},
   "outputs": [],
   "source": [
    "import pandas\n",
    "import geopandas\n",
    "from create_absentee_ballots_csv import create_absentee_ballots_df\n",
    "\n",
    "df = create_absentee_ballots_df()\n",
    "gdf = geopandas.read_file(\"./shapefiles/GA_precincts16.shp\")"
   ]
  },
  {
   "cell_type": "code",
   "execution_count": 2,
   "metadata": {},
   "outputs": [
    {
     "data": {
      "text/plain": [
       "COUNTY\n",
       "Bacon               89\n",
       "Chatham         -34984\n",
       "Chattahoochee     -567\n",
       "Columbia          -666\n",
       "Douglas           -408\n",
       "Morgan             298\n",
       "Name: PRES16D, dtype: int64"
      ]
     },
     "execution_count": 2,
     "metadata": {},
     "output_type": "execute_result"
    }
   ],
   "source": [
    "errors = df.groupby(\"COUNTY\")[\"PRES16D\"].sum() - gdf[\"PRES16D\"].astype(int).groupby(gdf[\"CTYNAME\"]).sum()\n",
    "\n",
    "errors[errors != 0]"
   ]
  },
  {
   "cell_type": "markdown",
   "metadata": {},
   "source": [
    "## The problem counties\n",
    "\n",
    "### Counties with bad match scores:\n",
    "\n",
    "- Bacon\n",
    "- Bleckley ✅\n",
    "- Chatham\n",
    "- Chattahoochee\n",
    "- Clarke\n",
    "- Crawford ✅\n",
    "- Rockdale\n",
    "- Spalding ⚠️\n",
    "- Taylor\n",
    "\n",
    "### Counties with different numbers of precincts:\n",
    "\n",
    "- Bibb 1 ✅\n",
    "- Chattooga 1\n",
    "- Columbia 3\n",
    "- Crawford 3 ✅\n",
    "- DeKalb 3\n",
    "- Effingham 2\n",
    "- Fayette 2\n",
    "- Forsyth 4\n",
    "- Fulton 1\n",
    "- Gwinnett 1\n",
    "- Henry 1 ✅\n",
    "- Lowndes 2\n",
    "- Muscogee 2\n",
    "- Newton 2\n",
    "- Pickens 1 ✅\n",
    "\n",
    "### Counties with the wrong vote totals\n",
    "\n",
    "- Bacon              89\n",
    "- Barrow ✅ (added spaces to `txt` file)\n",
    "- Chattahoochee    -567\n",
    "- Chatham ✅ (added spaces to `txt` file)\n",
    "- Columbia         -666\n",
    "- DeKalb ✅ (added spaces to `txt` file)\n",
    "- Douglas          -408\n",
    "- Morgan            298"
   ]
  },
  {
   "cell_type": "code",
   "execution_count": null,
   "metadata": {},
   "outputs": [],
   "source": []
  }
 ],
 "metadata": {
  "kernelspec": {
   "display_name": "Python 3",
   "language": "python",
   "name": "python3"
  },
  "language_info": {
   "codemirror_mode": {
    "name": "ipython",
    "version": 3
   },
   "file_extension": ".py",
   "mimetype": "text/x-python",
   "name": "python",
   "nbconvert_exporter": "python",
   "pygments_lexer": "ipython3",
   "version": "3.7.1"
  }
 },
 "nbformat": 4,
 "nbformat_minor": 2
}

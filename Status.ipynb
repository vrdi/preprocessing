{
 "cells": [
  {
   "cell_type": "markdown",
   "metadata": {},
   "source": [
    "# Status by county"
   ]
  },
  {
   "cell_type": "code",
   "execution_count": 76,
   "metadata": {},
   "outputs": [],
   "source": [
    "import pandas\n",
    "import geopandas\n",
    "from create_absentee_ballots_csv import create_absentee_ballots_df\n",
    "from match_precincts import find_matches\n",
    "\n",
    "df = create_absentee_ballots_df()\n",
    "gdf = geopandas.read_file(\"./shapefiles/GA_precincts16.shp\")"
   ]
  },
  {
   "cell_type": "code",
   "execution_count": 77,
   "metadata": {},
   "outputs": [],
   "source": [
    "df.to_csv(\"./GA_precincts_with_absentee.csv\")"
   ]
  },
  {
   "cell_type": "code",
   "execution_count": 75,
   "metadata": {},
   "outputs": [
    {
     "data": {
      "text/plain": [
       "Series([], Name: PRES16D, dtype: int64)"
      ]
     },
     "execution_count": 75,
     "metadata": {},
     "output_type": "execute_result"
    }
   ],
   "source": [
    "errors = df.groupby(\"COUNTY\")[\"PRES16D\"].sum() - gdf[\"PRES16D\"].astype(int).groupby(gdf[\"CTYNAME\"]).sum()\n",
    "\n",
    "errors[errors != 0]"
   ]
  },
  {
   "cell_type": "markdown",
   "metadata": {},
   "source": [
    "## The problem counties\n",
    "\n",
    "### Counties with bad match scores:\n",
    "\n",
    "- Bleckley ✅ (has only one precinct)\n",
    "- Chatham ✅ (merged precincts)\n",
    "- Chattahoochee ✅ (has only one precinct)\n",
    "- Clarke ✅ (match to the `PRECINCT_I` column)\n",
    "- Crawford ✅ (merged precincts)\n",
    "- Rockdale ✅ (manually matched)\n",
    "- Spalding ⚠️ (matched based on vote totals, but that's not great)\n",
    "- Taylor ✅ (the precinct numbers match)\n",
    "\n",
    "### Counties with different numbers of precincts (to merge):\n",
    "\n",
    "- Bibb 1 ✅\n",
    "- Chattooga 1 ✅\n",
    "- Columbia 3 ✅\n",
    "- Crawford 3 ✅\n",
    "- DeKalb 3 ✅\n",
    "- Effingham 2 ✅\n",
    "- Fayette 2\n",
    "- Forsyth 4\n",
    "- Fulton 1\n",
    "- Gwinnett 1\n",
    "- Henry 1 ✅\n",
    "- Lowndes 2\n",
    "- Muscogee 2\n",
    "- Newton 2\n",
    "- Pickens 1 ✅\n",
    "\n",
    "### Counties with the wrong vote totals\n",
    "\n",
    "- Bacon ✅ (re-downloaded the file from [the website](results.enr.clarityelections.com/GA/Bacon/63995/183418/en/reports.html))\n",
    "- Barrow ✅ (added spaces to `txt` file)\n",
    "- Chattahoochee ✅ (added spaces to `txt` file)\n",
    "- Chatham ✅ (added spaces to `txt` file)\n",
    "- Columbia ✅ (added spaces to `txt` file)\n",
    "- DeKalb ✅ (added spaces to `txt` file)\n",
    "- Douglas ✅ (added spaces to `txt` file)\n",
    "- Effingham ✅ (fixed discrepancy in shapefile)\n",
    "- Morgan ✅ (fixed discrepancy in shapefile)"
   ]
  },
  {
   "cell_type": "code",
   "execution_count": null,
   "metadata": {},
   "outputs": [],
   "source": []
  }
 ],
 "metadata": {
  "kernelspec": {
   "display_name": "Python 3",
   "language": "python",
   "name": "python3"
  },
  "language_info": {
   "codemirror_mode": {
    "name": "ipython",
    "version": 3
   },
   "file_extension": ".py",
   "mimetype": "text/x-python",
   "name": "python",
   "nbconvert_exporter": "python",
   "pygments_lexer": "ipython3",
   "version": "3.7.1"
  }
 },
 "nbformat": 4,
 "nbformat_minor": 2
}

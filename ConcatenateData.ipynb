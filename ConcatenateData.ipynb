{
 "cells": [
  {
   "cell_type": "code",
   "execution_count": 1,
   "metadata": {},
   "outputs": [],
   "source": [
    "import pandas"
   ]
  },
  {
   "cell_type": "code",
   "execution_count": 69,
   "metadata": {},
   "outputs": [],
   "source": [
    "def check_order_of_candidates(line):\n",
    "    words = [s.lower() for s in line.split()]\n",
    "    trump_index = words.index(\"trump\")\n",
    "    clinton_index = words.index(\"clinton\")\n",
    "    johnson_index = words.index(\"johnson\")\n",
    "    return (trump_index < clinton_index) and (clinton_index < johnson_index)\n",
    "\n",
    "def find_row_range(filename):\n",
    "    try:\n",
    "        with open(filename) as f:\n",
    "            for i, line in enumerate(f):\n",
    "                if \"TRUMP\" in line:\n",
    "                    assert check_order_of_candidates(line)\n",
    "                if \"President\" in line:\n",
    "                    start = i + 2\n",
    "                if \"Totals:\" in line:\n",
    "                    stop = i - 1\n",
    "                    return start, stop - start\n",
    "    except Exception as e:\n",
    "        print(filename)\n",
    "        print(e)\n",
    "        assert False"
   ]
  },
  {
   "cell_type": "code",
   "execution_count": 54,
   "metadata": {},
   "outputs": [
    {
     "name": "stdout",
     "output_type": "stream",
     "text": [
      "24 14\n"
     ]
    }
   ],
   "source": [
    "skiprows, nrows = find_row_range(\"./Appling/detail.txt\")\n",
    "\n",
    "print(skiprows, nrows)"
   ]
  },
  {
   "cell_type": "code",
   "execution_count": null,
   "metadata": {},
   "outputs": [],
   "source": [
    "column_suffixes = {\n",
    "    \"Election Day\": \"_ED\",\n",
    "    \"Absentee by Mail\": \"_AB\",\n",
    "    \"Absentee By Mail\": \"_AB\",\n",
    "    \"Advance in Person\": \"_AD\",\n",
    "    \"Advance In Person\": \"_AD\",\n",
    "    \"Provisional\": \"_PR\",\n",
    "    \"Choice Total\": \"\",\n",
    "}\n",
    "\n",
    "column_map = {\n",
    "    \"Registered Voters\": \"REG_VOTE\",\n",
    "    \"Precinct\": \"PRECINCT\",\n",
    "}\n",
    "\n",
    "candidate_map = {\n",
    "    \"\": \"PRES16R\",\n",
    "    \".1\": \"PRES16D\",\n",
    "    \".2\": \"PRES16L\"\n",
    "}\n",
    "\n",
    "for identifier, candidate_col in candidate_map.items():\n",
    "    for col, suffix in column_suffixes.items():\n",
    "        column_map[col + identifier] = candidate_col + suffix\n",
    "\n",
    "column_map"
   ]
  },
  {
   "cell_type": "code",
   "execution_count": 65,
   "metadata": {},
   "outputs": [],
   "source": [
    "import os\n",
    "import shutil\n",
    "from tqdm import tqdm"
   ]
  },
  {
   "cell_type": "code",
   "execution_count": 61,
   "metadata": {},
   "outputs": [],
   "source": [
    "ignore = {\"data\", \"examples\", \".git\", \".ipynb_checkpoints\", \"ResolvingOverlaps.ipynb\", \"Untitled.ipynb\"}\n",
    "\n",
    "counties = set(os.listdir(\".\")) - ignore"
   ]
  },
  {
   "cell_type": "code",
   "execution_count": 63,
   "metadata": {},
   "outputs": [],
   "source": [
    "for county in counties:\n",
    "    shutil.move(county, f\"./data/{county}\")"
   ]
  },
  {
   "cell_type": "code",
   "execution_count": 147,
   "metadata": {},
   "outputs": [],
   "source": [
    "def sum_advance_columns(df):\n",
    "    num_columns = 0\n",
    "    cols = [col for col in df.columns if \"advance in person\" in col.lower() and \".\" not in col]\n",
    "    if len(cols) > 1:\n",
    "        advance_columns_map = {\n",
    "            suffix: [f\"{col}{suffix}\" for col in cols]\n",
    "            for suffix in [\"\", \".1\", \".2\"]\n",
    "        }\n",
    "        for suffix, advance_columns in advance_columns_map.items():\n",
    "            df[\"Advance in Person\" + suffix] = df[advance_columns].sum(axis=1)\n",
    "        columns_to_drop = [col for cols in advance_columns_map.values() for col in cols]\n",
    "        for suffix in advance_columns_map:\n",
    "            if \"Advance in Person\" + suffix in columns_to_drop:\n",
    "                columns_to_drop.remove(\"Advance in Person\" + suffix)\n",
    "        return df.drop(columns_to_drop, axis=\"columns\")\n",
    "    return df"
   ]
  },
  {
   "cell_type": "code",
   "execution_count": 148,
   "metadata": {},
   "outputs": [],
   "source": [
    "def read_county_txt(county):\n",
    "    filename = f\"./data/{county}/detail.txt\"\n",
    "    skiprows, nrows = find_row_range(filename)\n",
    "    df = pandas.read_csv(filename, sep=\"\\s\\s+\", skiprows=skiprows, nrows=nrows, engine=\"python\")\n",
    "    df = sum_advance_columns(df)\n",
    "    result = df.rename(column_map, axis=\"columns\").drop(\"Total\", axis=\"columns\")\n",
    "    result[\"COUNTY\"] = county\n",
    "    return result"
   ]
  },
  {
   "cell_type": "code",
   "execution_count": 149,
   "metadata": {},
   "outputs": [],
   "source": [
    "counties = os.listdir(\"./data/\")\n",
    "county_dataframes = [read_county_txt(county) for county in counties]"
   ]
  },
  {
   "cell_type": "code",
   "execution_count": 150,
   "metadata": {},
   "outputs": [],
   "source": [
    "columns = set(county_dataframes[0].columns)\n",
    "\n",
    "for df in county_dataframes:\n",
    "    if set(df.columns) != columns:\n",
    "        print(columns - set(df.columns))\n"
   ]
  },
  {
   "cell_type": "code",
   "execution_count": 151,
   "metadata": {},
   "outputs": [
    {
     "name": "stderr",
     "output_type": "stream",
     "text": [
      "C:\\Users\\MGGG\\Miniconda3\\envs\\max\\lib\\site-packages\\ipykernel_launcher.py:1: FutureWarning: Sorting because non-concatenation axis is not aligned. A future version\n",
      "of pandas will change to not sort by default.\n",
      "\n",
      "To accept the future behavior, pass 'sort=False'.\n",
      "\n",
      "To retain the current behavior and silence the warning, pass 'sort=True'.\n",
      "\n",
      "  \"\"\"Entry point for launching an IPython kernel.\n"
     ]
    }
   ],
   "source": [
    "df = pandas.concat(county_dataframes, ignore_index=True)"
   ]
  },
  {
   "cell_type": "code",
   "execution_count": 155,
   "metadata": {},
   "outputs": [
    {
     "data": {
      "text/html": [
       "<div>\n",
       "<style scoped>\n",
       "    .dataframe tbody tr th:only-of-type {\n",
       "        vertical-align: middle;\n",
       "    }\n",
       "\n",
       "    .dataframe tbody tr th {\n",
       "        vertical-align: top;\n",
       "    }\n",
       "\n",
       "    .dataframe thead th {\n",
       "        text-align: right;\n",
       "    }\n",
       "</style>\n",
       "<table border=\"1\" class=\"dataframe\">\n",
       "  <thead>\n",
       "    <tr style=\"text-align: right;\">\n",
       "      <th></th>\n",
       "      <th>PRES16D</th>\n",
       "      <th>PRES16D_AB</th>\n",
       "      <th>PRES16D_AD</th>\n",
       "      <th>PRES16D_ED</th>\n",
       "      <th>PRES16D_PR</th>\n",
       "      <th>PRES16L</th>\n",
       "      <th>PRES16L_AB</th>\n",
       "      <th>PRES16L_AD</th>\n",
       "      <th>PRES16L_ED</th>\n",
       "      <th>PRES16L_PR</th>\n",
       "      <th>PRES16R</th>\n",
       "      <th>PRES16R_AB</th>\n",
       "      <th>PRES16R_AD</th>\n",
       "      <th>PRES16R_ED</th>\n",
       "      <th>PRES16R_PR</th>\n",
       "      <th>REG_VOTE</th>\n",
       "    </tr>\n",
       "  </thead>\n",
       "  <tbody>\n",
       "    <tr>\n",
       "      <th>count</th>\n",
       "      <td>2692.000000</td>\n",
       "      <td>2692.000000</td>\n",
       "      <td>2692.000000</td>\n",
       "      <td>2692.000000</td>\n",
       "      <td>2692.000000</td>\n",
       "      <td>2692.000000</td>\n",
       "      <td>2692.000000</td>\n",
       "      <td>2692.000000</td>\n",
       "      <td>2692.000000</td>\n",
       "      <td>2692.000000</td>\n",
       "      <td>2692.000000</td>\n",
       "      <td>2692.000000</td>\n",
       "      <td>2692.000000</td>\n",
       "      <td>2692.000000</td>\n",
       "      <td>2692.000000</td>\n",
       "      <td>2692.000000</td>\n",
       "    </tr>\n",
       "    <tr>\n",
       "      <th>mean</th>\n",
       "      <td>682.837667</td>\n",
       "      <td>41.355126</td>\n",
       "      <td>373.660104</td>\n",
       "      <td>271.841010</td>\n",
       "      <td>17.320579</td>\n",
       "      <td>77.202823</td>\n",
       "      <td>2.608098</td>\n",
       "      <td>18.072808</td>\n",
       "      <td>25.001486</td>\n",
       "      <td>1.117756</td>\n",
       "      <td>769.384844</td>\n",
       "      <td>42.657504</td>\n",
       "      <td>410.819094</td>\n",
       "      <td>311.699851</td>\n",
       "      <td>16.031947</td>\n",
       "      <td>1987.051634</td>\n",
       "    </tr>\n",
       "    <tr>\n",
       "      <th>std</th>\n",
       "      <td>641.838698</td>\n",
       "      <td>56.116658</td>\n",
       "      <td>401.466021</td>\n",
       "      <td>239.518107</td>\n",
       "      <td>122.276381</td>\n",
       "      <td>223.432281</td>\n",
       "      <td>3.514558</td>\n",
       "      <td>22.815872</td>\n",
       "      <td>25.326189</td>\n",
       "      <td>7.726312</td>\n",
       "      <td>799.998980</td>\n",
       "      <td>59.449801</td>\n",
       "      <td>536.449488</td>\n",
       "      <td>280.533208</td>\n",
       "      <td>121.211804</td>\n",
       "      <td>1514.248351</td>\n",
       "    </tr>\n",
       "    <tr>\n",
       "      <th>min</th>\n",
       "      <td>1.000000</td>\n",
       "      <td>0.000000</td>\n",
       "      <td>0.000000</td>\n",
       "      <td>0.000000</td>\n",
       "      <td>0.000000</td>\n",
       "      <td>0.000000</td>\n",
       "      <td>0.000000</td>\n",
       "      <td>0.000000</td>\n",
       "      <td>0.000000</td>\n",
       "      <td>0.000000</td>\n",
       "      <td>0.000000</td>\n",
       "      <td>0.000000</td>\n",
       "      <td>0.000000</td>\n",
       "      <td>0.000000</td>\n",
       "      <td>0.000000</td>\n",
       "      <td>6.000000</td>\n",
       "    </tr>\n",
       "    <tr>\n",
       "      <th>25%</th>\n",
       "      <td>177.750000</td>\n",
       "      <td>11.000000</td>\n",
       "      <td>76.000000</td>\n",
       "      <td>79.000000</td>\n",
       "      <td>0.000000</td>\n",
       "      <td>13.000000</td>\n",
       "      <td>0.000000</td>\n",
       "      <td>4.000000</td>\n",
       "      <td>6.000000</td>\n",
       "      <td>0.000000</td>\n",
       "      <td>218.000000</td>\n",
       "      <td>9.000000</td>\n",
       "      <td>82.000000</td>\n",
       "      <td>94.000000</td>\n",
       "      <td>0.000000</td>\n",
       "      <td>899.250000</td>\n",
       "    </tr>\n",
       "    <tr>\n",
       "      <th>50%</th>\n",
       "      <td>498.000000</td>\n",
       "      <td>28.000000</td>\n",
       "      <td>251.000000</td>\n",
       "      <td>206.000000</td>\n",
       "      <td>0.000000</td>\n",
       "      <td>33.000000</td>\n",
       "      <td>1.000000</td>\n",
       "      <td>12.000000</td>\n",
       "      <td>17.000000</td>\n",
       "      <td>0.000000</td>\n",
       "      <td>579.500000</td>\n",
       "      <td>26.000000</td>\n",
       "      <td>260.000000</td>\n",
       "      <td>242.000000</td>\n",
       "      <td>0.000000</td>\n",
       "      <td>1747.000000</td>\n",
       "    </tr>\n",
       "    <tr>\n",
       "      <th>75%</th>\n",
       "      <td>987.000000</td>\n",
       "      <td>53.000000</td>\n",
       "      <td>533.000000</td>\n",
       "      <td>411.250000</td>\n",
       "      <td>2.000000</td>\n",
       "      <td>71.000000</td>\n",
       "      <td>4.000000</td>\n",
       "      <td>25.000000</td>\n",
       "      <td>36.250000</td>\n",
       "      <td>0.000000</td>\n",
       "      <td>1052.000000</td>\n",
       "      <td>57.000000</td>\n",
       "      <td>550.000000</td>\n",
       "      <td>442.250000</td>\n",
       "      <td>1.000000</td>\n",
       "      <td>2698.250000</td>\n",
       "    </tr>\n",
       "    <tr>\n",
       "      <th>max</th>\n",
       "      <td>7147.000000</td>\n",
       "      <td>1110.000000</td>\n",
       "      <td>4849.000000</td>\n",
       "      <td>1888.000000</td>\n",
       "      <td>2351.000000</td>\n",
       "      <td>3743.000000</td>\n",
       "      <td>39.000000</td>\n",
       "      <td>386.000000</td>\n",
       "      <td>185.000000</td>\n",
       "      <td>129.000000</td>\n",
       "      <td>9619.000000</td>\n",
       "      <td>912.000000</td>\n",
       "      <td>7056.000000</td>\n",
       "      <td>2163.000000</td>\n",
       "      <td>1604.000000</td>\n",
       "      <td>21447.000000</td>\n",
       "    </tr>\n",
       "  </tbody>\n",
       "</table>\n",
       "</div>"
      ],
      "text/plain": [
       "           PRES16D   PRES16D_AB   PRES16D_AD   PRES16D_ED   PRES16D_PR  \\\n",
       "count  2692.000000  2692.000000  2692.000000  2692.000000  2692.000000   \n",
       "mean    682.837667    41.355126   373.660104   271.841010    17.320579   \n",
       "std     641.838698    56.116658   401.466021   239.518107   122.276381   \n",
       "min       1.000000     0.000000     0.000000     0.000000     0.000000   \n",
       "25%     177.750000    11.000000    76.000000    79.000000     0.000000   \n",
       "50%     498.000000    28.000000   251.000000   206.000000     0.000000   \n",
       "75%     987.000000    53.000000   533.000000   411.250000     2.000000   \n",
       "max    7147.000000  1110.000000  4849.000000  1888.000000  2351.000000   \n",
       "\n",
       "           PRES16L   PRES16L_AB   PRES16L_AD   PRES16L_ED   PRES16L_PR  \\\n",
       "count  2692.000000  2692.000000  2692.000000  2692.000000  2692.000000   \n",
       "mean     77.202823     2.608098    18.072808    25.001486     1.117756   \n",
       "std     223.432281     3.514558    22.815872    25.326189     7.726312   \n",
       "min       0.000000     0.000000     0.000000     0.000000     0.000000   \n",
       "25%      13.000000     0.000000     4.000000     6.000000     0.000000   \n",
       "50%      33.000000     1.000000    12.000000    17.000000     0.000000   \n",
       "75%      71.000000     4.000000    25.000000    36.250000     0.000000   \n",
       "max    3743.000000    39.000000   386.000000   185.000000   129.000000   \n",
       "\n",
       "           PRES16R   PRES16R_AB   PRES16R_AD   PRES16R_ED   PRES16R_PR  \\\n",
       "count  2692.000000  2692.000000  2692.000000  2692.000000  2692.000000   \n",
       "mean    769.384844    42.657504   410.819094   311.699851    16.031947   \n",
       "std     799.998980    59.449801   536.449488   280.533208   121.211804   \n",
       "min       0.000000     0.000000     0.000000     0.000000     0.000000   \n",
       "25%     218.000000     9.000000    82.000000    94.000000     0.000000   \n",
       "50%     579.500000    26.000000   260.000000   242.000000     0.000000   \n",
       "75%    1052.000000    57.000000   550.000000   442.250000     1.000000   \n",
       "max    9619.000000   912.000000  7056.000000  2163.000000  1604.000000   \n",
       "\n",
       "           REG_VOTE  \n",
       "count   2692.000000  \n",
       "mean    1987.051634  \n",
       "std     1514.248351  \n",
       "min        6.000000  \n",
       "25%      899.250000  \n",
       "50%     1747.000000  \n",
       "75%     2698.250000  \n",
       "max    21447.000000  "
      ]
     },
     "execution_count": 155,
     "metadata": {},
     "output_type": "execute_result"
    }
   ],
   "source": [
    "df.describe()"
   ]
  },
  {
   "cell_type": "code",
   "execution_count": 156,
   "metadata": {},
   "outputs": [],
   "source": [
    "df.to_csv(\"./GA_precincts_with_absentee.csv\")"
   ]
  },
  {
   "cell_type": "code",
   "execution_count": 2,
   "metadata": {},
   "outputs": [],
   "source": [
    "df = pandas.read_csv(\"./GA_precincts_with_absentee.csv\")"
   ]
  },
  {
   "cell_type": "code",
   "execution_count": 3,
   "metadata": {},
   "outputs": [],
   "source": [
    "import geopandas"
   ]
  },
  {
   "cell_type": "code",
   "execution_count": 4,
   "metadata": {},
   "outputs": [],
   "source": [
    "gdf = geopandas.read_file(\"https://github.com/mggg-states/GA-shapefiles/raw/master/GA_precincts16.zip\")"
   ]
  },
  {
   "cell_type": "code",
   "execution_count": 10,
   "metadata": {},
   "outputs": [],
   "source": [
    "from fuzzywuzzy import process"
   ]
  },
  {
   "cell_type": "code",
   "execution_count": 6,
   "metadata": {},
   "outputs": [
    {
     "data": {
      "text/plain": [
       "1056    Statenville\n",
       "Name: PRECINCT, dtype: object"
      ]
     },
     "execution_count": 6,
     "metadata": {},
     "output_type": "execute_result"
    }
   ],
   "source": [
    "df[df[\"COUNTY\"] == \"Echols\"][\"PRECINCT\"]"
   ]
  },
  {
   "cell_type": "code",
   "execution_count": 9,
   "metadata": {},
   "outputs": [
    {
     "data": {
      "text/plain": [
       "825    STATENVILLE\n",
       "Name: PRECINCT_N, dtype: object"
      ]
     },
     "execution_count": 9,
     "metadata": {},
     "output_type": "execute_result"
    }
   ],
   "source": [
    "gdf[gdf[\"CTYNAME\"] == \"Echols\"][\"PRECINCT_N\"]"
   ]
  },
  {
   "cell_type": "code",
   "execution_count": 16,
   "metadata": {},
   "outputs": [],
   "source": [
    "def search_for_matches(county):\n",
    "    choices = gdf[gdf[\"CTYNAME\"] == county][\"PRECINCT_N\"]\n",
    "    return df[df[\"COUNTY\"] == county][\"PRECINCT\"].apply(lambda name: process.extractOne(name, choices))"
   ]
  },
  {
   "cell_type": "code",
   "execution_count": 17,
   "metadata": {},
   "outputs": [],
   "source": [
    "counties = df[\"COUNTY\"].unique()"
   ]
  },
  {
   "cell_type": "code",
   "execution_count": 25,
   "metadata": {},
   "outputs": [
    {
     "data": {
      "text/plain": [
       "Index(['Unnamed: 0', 'COUNTY', 'PRECINCT', 'PRES16D', 'PRES16D_AB',\n",
       "       'PRES16D_AD', 'PRES16D_ED', 'PRES16D_PR', 'PRES16L', 'PRES16L_AB',\n",
       "       'PRES16L_AD', 'PRES16L_ED', 'PRES16L_PR', 'PRES16R', 'PRES16R_AB',\n",
       "       'PRES16R_AD', 'PRES16R_ED', 'PRES16R_PR', 'REG_VOTE'],\n",
       "      dtype='object')"
      ]
     },
     "execution_count": 25,
     "metadata": {},
     "output_type": "execute_result"
    }
   ],
   "source": [
    "df.columns"
   ]
  },
  {
   "cell_type": "code",
   "execution_count": 27,
   "metadata": {},
   "outputs": [],
   "source": [
    "df.drop('Unnamed: 0', axis=\"columns\", inplace=True)"
   ]
  },
  {
   "cell_type": "code",
   "execution_count": 29,
   "metadata": {},
   "outputs": [],
   "source": [
    "df = df.replace(\"COUNTY\", {\"Ben_Hill\": \"Ben Hill\", \"Jeff_Davis\": \"Jeff Davis\"})"
   ]
  },
  {
   "cell_type": "code",
   "execution_count": 30,
   "metadata": {},
   "outputs": [],
   "source": [
    "df.to_csv(\"./GA_precincts_with_absentee.csv\", index=False)"
   ]
  },
  {
   "cell_type": "code",
   "execution_count": 19,
   "metadata": {},
   "outputs": [
    {
     "name": "stdout",
     "output_type": "stream",
     "text": [
      "Ben_Hill\n",
      "Jeff_Davis\n"
     ]
    }
   ],
   "source": [
    "for county in counties:\n",
    "    choices = gdf[gdf[\"CTYNAME\"] == county][\"PRECINCT_N\"]\n",
    "    if len(choices) == 0:\n",
    "        print(county)"
   ]
  },
  {
   "cell_type": "code",
   "execution_count": 33,
   "metadata": {},
   "outputs": [
    {
     "data": {
      "text/plain": [
       "13"
      ]
     },
     "execution_count": 33,
     "metadata": {},
     "output_type": "execute_result"
    }
   ],
   "source": [
    "(gdf.groupby(\"CTYNAME\").size() == 1).sum()"
   ]
  },
  {
   "cell_type": "code",
   "execution_count": 34,
   "metadata": {},
   "outputs": [
    {
     "data": {
      "text/plain": [
       "12"
      ]
     },
     "execution_count": 34,
     "metadata": {},
     "output_type": "execute_result"
    }
   ],
   "source": [
    "(df.groupby(\"COUNTY\").size() == 1).sum()"
   ]
  },
  {
   "cell_type": "code",
   "execution_count": 36,
   "metadata": {},
   "outputs": [
    {
     "data": {
      "text/plain": [
       "-1"
      ]
     },
     "execution_count": 36,
     "metadata": {},
     "output_type": "execute_result"
    }
   ],
   "source": [
    "df[\"COUNTY\"].nunique() - gdf[\"CTYNAME\"].nunique()"
   ]
  },
  {
   "cell_type": "code",
   "execution_count": 37,
   "metadata": {},
   "outputs": [
    {
     "data": {
      "text/plain": [
       "array(['Columbia', 'Clayton', 'Lincoln', 'McDuffie', 'Fayette', 'Fulton',\n",
       "       'Taliaferro', 'Wilkes', 'Greene', 'Oconee', 'Banks', 'Morgan',\n",
       "       'Walton', 'Newton', 'Union', 'Rockdale', 'Gwinnett', 'DeKalb',\n",
       "       'Henry', 'Pickens', 'Gilmer', 'Troup', 'Heard', 'Carroll',\n",
       "       'Paulding', 'Douglas', 'Whitfield', 'Coweta', 'Clay', 'Early',\n",
       "       'Haralson', 'Spalding', 'Screven', 'Burke', 'Chattooga',\n",
       "       'Richmond', 'Warren', 'Jefferson', 'Hancock', 'Twiggs', 'Jones',\n",
       "       'Thomas', 'Brooks', 'Jasper', 'Butts', 'Monroe', 'Bibb', 'Sumter',\n",
       "       'Dooly', 'Macon', 'Peach', 'Crawford', 'Houston', 'Tift', 'Worth',\n",
       "       'Crisp', 'Brantley', 'Colquitt', 'Lowndes', 'Lee', 'Lamar', 'Pike',\n",
       "       'Grady', 'Mitchell', 'Randolph', 'Calhoun', 'Terrell', 'Dougherty',\n",
       "       'Marion', 'Seminole', 'Decatur', 'Miller', 'Baker', 'Webster',\n",
       "       'Muscogee', 'Quitman', 'Stewart', 'Harris', 'Meriwether', 'Taylor',\n",
       "       'Upson', 'Schley', 'Talbot', 'Charlton', 'Camden', 'Turner',\n",
       "       'Appling', 'Wayne', 'Coffee', 'Irwin', 'Pierce', 'Emanuel',\n",
       "       'Tattnall', 'Long', 'Bacon', 'Toombs', 'Cook', 'Evans', 'Bulloch',\n",
       "       'Jenkins', 'Lanier', 'Clinch', 'Ware', 'Berrien', 'Bryan',\n",
       "       'McIntosh', 'Liberty', 'Glynn', 'Atkinson', 'Echols', 'Pulaski',\n",
       "       'Telfair', 'Wilcox', 'Dodge', 'Bleckley', 'Montgomery', 'Laurens',\n",
       "       'Treutlen', 'Wheeler', 'Candler', 'Jeff Davis', 'Johnson',\n",
       "       'Washington', 'Glascock', 'Wilkinson', 'Ben Hill', 'Putnam',\n",
       "       'Baldwin', 'Effingham', 'Chatham', 'Forsyth', 'Hall', 'Dawson',\n",
       "       'White', 'Towns', 'Barrow', 'Lumpkin', 'Murray', 'Jackson',\n",
       "       'Catoosa', 'Fannin', 'Walker', 'Dade', 'Gordon', 'Bartow', 'Floyd',\n",
       "       'Polk', 'Cherokee', 'Cobb', 'CHATTOOGA', 'Madison', 'Elbert',\n",
       "       'Hart', 'Oglethorpe', 'Habersham', 'Rabun', 'Franklin', 'Stephens',\n",
       "       'Clarke', 'Chattahoochee'], dtype=object)"
      ]
     },
     "execution_count": 37,
     "metadata": {},
     "output_type": "execute_result"
    }
   ],
   "source": [
    "df.replace(\"Chattooga\")"
   ]
  },
  {
   "cell_type": "code",
   "execution_count": null,
   "metadata": {},
   "outputs": [],
   "source": []
  }
 ],
 "metadata": {
  "kernelspec": {
   "display_name": "Python 3",
   "language": "python",
   "name": "python3"
  },
  "language_info": {
   "codemirror_mode": {
    "name": "ipython",
    "version": 3
   },
   "file_extension": ".py",
   "mimetype": "text/x-python",
   "name": "python",
   "nbconvert_exporter": "python",
   "pygments_lexer": "ipython3",
   "version": "3.7.1"
  }
 },
 "nbformat": 4,
 "nbformat_minor": 2
}

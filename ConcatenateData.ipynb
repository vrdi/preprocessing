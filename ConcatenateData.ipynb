{
 "cells": [
  {
   "cell_type": "markdown",
   "metadata": {},
   "source": [
    "# Preparing the data"
   ]
  },
  {
   "cell_type": "markdown",
   "metadata": {},
   "source": [
    "## Concatenate all the data"
   ]
  },
  {
   "cell_type": "code",
   "execution_count": 141,
   "metadata": {},
   "outputs": [],
   "source": [
    "import pandas"
   ]
  },
  {
   "cell_type": "code",
   "execution_count": 142,
   "metadata": {},
   "outputs": [],
   "source": [
    "def check_order_of_candidates(line):\n",
    "    words = [s.lower() for s in line.split()]\n",
    "    trump_index = words.index(\"trump\")\n",
    "    clinton_index = words.index(\"clinton\")\n",
    "    johnson_index = words.index(\"johnson\")\n",
    "    return (trump_index < clinton_index) and (clinton_index < johnson_index)\n",
    "\n",
    "def find_row_range(filename):\n",
    "    try:\n",
    "        with open(filename) as f:\n",
    "            for i, line in enumerate(f):\n",
    "                if \"TRUMP\" in line:\n",
    "                    assert check_order_of_candidates(line)\n",
    "                if \"President\" in line:\n",
    "                    start = i + 2\n",
    "                if \"Totals:\" in line:\n",
    "                    stop = i - 1\n",
    "                    return start, stop - start\n",
    "    except Exception as e:\n",
    "        print(filename)\n",
    "        print(e)\n",
    "        assert False"
   ]
  },
  {
   "cell_type": "code",
   "execution_count": 143,
   "metadata": {},
   "outputs": [],
   "source": [
    "column_suffixes = {\n",
    "    \"Election Day\": \"_ED\",\n",
    "    \"Absentee by Mail\": \"_AB\",\n",
    "    \"Absentee By Mail\": \"_AB\",\n",
    "    \"Advance in Person\": \"_AD\",\n",
    "    \"Advance In Person\": \"_AD\",\n",
    "    \"Provisional\": \"_PR\",\n",
    "    \"Choice Total\": \"\",\n",
    "}\n",
    "\n",
    "column_map = {\n",
    "    \"Registered Voters\": \"REG_VOTE\",\n",
    "    \"Precinct\": \"PRECINCT\",\n",
    "}\n",
    "\n",
    "candidate_map = {\n",
    "    \"\": \"PRES16R\",\n",
    "    \".1\": \"PRES16D\",\n",
    "    \".2\": \"PRES16L\"\n",
    "}\n",
    "\n",
    "for identifier, candidate_col in candidate_map.items():\n",
    "    for col, suffix in column_suffixes.items():\n",
    "        column_map[col + identifier] = candidate_col + suffix\n"
   ]
  },
  {
   "cell_type": "code",
   "execution_count": 144,
   "metadata": {},
   "outputs": [],
   "source": [
    "def sum_advance_columns(df):\n",
    "    num_columns = 0\n",
    "    cols = [col for col in df.columns if \"advance in person\" in col.lower() and \".\" not in col]\n",
    "    if len(cols) > 1:\n",
    "        advance_columns_map = {\n",
    "            suffix: [f\"{col}{suffix}\" for col in cols]\n",
    "            for suffix in [\"\", \".1\", \".2\"]\n",
    "        }\n",
    "        for suffix, advance_columns in advance_columns_map.items():\n",
    "            df[\"Advance in Person\" + suffix] = df[advance_columns].sum(axis=1)\n",
    "        columns_to_drop = [col for cols in advance_columns_map.values() for col in cols]\n",
    "        for suffix in advance_columns_map:\n",
    "            if \"Advance in Person\" + suffix in columns_to_drop:\n",
    "                columns_to_drop.remove(\"Advance in Person\" + suffix)\n",
    "        return df.drop(columns_to_drop, axis=\"columns\")\n",
    "    return df"
   ]
  },
  {
   "cell_type": "code",
   "execution_count": 145,
   "metadata": {},
   "outputs": [],
   "source": [
    "def read_county_txt(county):\n",
    "    filename = f\"./data/{county}/detail.txt\"\n",
    "    skiprows, nrows = find_row_range(filename)\n",
    "    df = pandas.read_csv(filename, sep=\"\\s\\s+\", skiprows=skiprows, nrows=nrows, engine=\"python\")\n",
    "    df = sum_advance_columns(df)\n",
    "    result = df.rename(column_map, axis=\"columns\").drop(\"Total\", axis=\"columns\")\n",
    "    result[\"COUNTY\"] = county\n",
    "    return result"
   ]
  },
  {
   "cell_type": "code",
   "execution_count": 155,
   "metadata": {},
   "outputs": [],
   "source": [
    "def create_absentee_ballots_csv():\n",
    "    counties = os.listdir(\"./data/\")\n",
    "    county_dataframes = [read_county_txt(county) for county in counties]\n",
    "    df = pandas.concat(county_dataframes, ignore_index=True, sort=True)\n",
    "    new_names = {\"Ben_Hill\": \"Ben Hill\", \"Jeff_Davis\": \"Jeff Davis\"}\n",
    "    df[\"COUNTY\"] = df[\"COUNTY\"].apply(lambda p: new_names.get(p, p))\n",
    "    df.to_csv(\"./GA_precincts_with_absentee.csv\", index=False)"
   ]
  },
  {
   "cell_type": "code",
   "execution_count": 156,
   "metadata": {},
   "outputs": [],
   "source": [
    "create_absentee_ballots_csv()"
   ]
  },
  {
   "cell_type": "markdown",
   "metadata": {},
   "source": [
    "## Bring counties into alignment"
   ]
  },
  {
   "cell_type": "code",
   "execution_count": 51,
   "metadata": {},
   "outputs": [],
   "source": [
    "import geopandas"
   ]
  },
  {
   "cell_type": "code",
   "execution_count": 152,
   "metadata": {},
   "outputs": [],
   "source": [
    "gdf = geopandas.read_file(\"./shapefiles/GA_precincts16.shp\")"
   ]
  },
  {
   "cell_type": "code",
   "execution_count": 53,
   "metadata": {},
   "outputs": [],
   "source": [
    "new_names = {\"CHATTOOGA\": \"Chattooga\"}\n",
    "gdf[\"CTYNAME\"] = gdf[\"CTYNAME\"].apply(lambda n: new_names.get(n, n))"
   ]
  },
  {
   "cell_type": "code",
   "execution_count": 54,
   "metadata": {},
   "outputs": [],
   "source": [
    "assert set(gdf[\"CTYNAME\"]) == set(df[\"COUNTY\"])"
   ]
  },
  {
   "cell_type": "code",
   "execution_count": 55,
   "metadata": {},
   "outputs": [],
   "source": [
    "gdf.to_file(\"./shapefiles/GA_precincts16.shp\")"
   ]
  },
  {
   "cell_type": "code",
   "execution_count": 153,
   "metadata": {},
   "outputs": [],
   "source": []
  },
  {
   "cell_type": "code",
   "execution_count": 154,
   "metadata": {},
   "outputs": [
    {
     "data": {
      "text/plain": [
       "COUNTY\n",
       "Bacon               89\n",
       "Barrow           -1501\n",
       "Chatham         -34984\n",
       "Chattahoochee     -567\n",
       "Columbia          -666\n",
       "Douglas           -408\n",
       "Morgan             298\n",
       "Name: PRES16D, dtype: int64"
      ]
     },
     "execution_count": 154,
     "metadata": {},
     "output_type": "execute_result"
    }
   ],
   "source": [
    "errors[errors != 0]"
   ]
  },
  {
   "cell_type": "code",
   "execution_count": null,
   "metadata": {},
   "outputs": [],
   "source": []
  }
 ],
 "metadata": {
  "kernelspec": {
   "display_name": "Python 3",
   "language": "python",
   "name": "python3"
  },
  "language_info": {
   "codemirror_mode": {
    "name": "ipython",
    "version": 3
   },
   "file_extension": ".py",
   "mimetype": "text/x-python",
   "name": "python",
   "nbconvert_exporter": "python",
   "pygments_lexer": "ipython3",
   "version": "3.6.8"
  }
 },
 "nbformat": 4,
 "nbformat_minor": 2
}
